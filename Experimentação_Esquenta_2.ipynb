{
  "cells": [
    {
      "cell_type": "markdown",
      "metadata": {
        "id": "view-in-github",
        "colab_type": "text"
      },
      "source": [
        "<a href=\"https://colab.research.google.com/github/Jhaan27/experimentacaoemalgoritmos/blob/main/Experimenta%C3%A7%C3%A3o_Esquenta_2.ipynb\" target=\"_parent\"><img src=\"https://colab.research.google.com/assets/colab-badge.svg\" alt=\"Open In Colab\"/></a>"
      ]
    },
    {
      "cell_type": "code",
      "execution_count": null,
      "metadata": {
        "colab": {
          "base_uri": "https://localhost:8080/"
        },
        "id": "kqO8NpbEi8UO",
        "outputId": "73b83f28-1830-47dd-f8a0-91db51b52440"
      },
      "outputs": [
        {
          "output_type": "stream",
          "name": "stdout",
          "text": [
            "Mounted at /content/drive\n"
          ]
        }
      ],
      "source": [
        "import random\n",
        "import numpy as np\n",
        "from google.colab import drive\n",
        "\n",
        "# Monte o Google Drive no Colab\n",
        "drive.mount('/content/drive')"
      ]
    },
    {
      "cell_type": "code",
      "execution_count": null,
      "metadata": {
        "id": "N3Kq0LXQSr2w"
      },
      "outputs": [],
      "source": [
        "\n",
        "# Carregando os dados Não Ordenados\n",
        "INO1= np.genfromtxt('/content/drive/My Drive/Dados/N_Ordenados/num_n_ord_dim_100.txt', delimiter=',')\n",
        "INO2= np.genfromtxt('/content/drive/My Drive/Dados/N_Ordenados/num_n_ord_dim_200.txt', delimiter=',')\n",
        "INO3= np.genfromtxt('/content/drive/My Drive/Dados/N_Ordenados/num_n_ord_dim_1000.txt', delimiter=',')\n",
        "INO4= np.genfromtxt('/content/drive/My Drive/Dados/N_Ordenados/num_n_ord_dim_2000.txt', delimiter=',')\n",
        "INO5= np.genfromtxt('/content/drive/My Drive/Dados/N_Ordenados/num_n_ord_dim_5000.txt', delimiter=',')\n",
        "INO6= np.genfromtxt('/content/drive/My Drive/Dados/N_Ordenados/num_n_ord_dim_10000.txt', delimiter=',')\n",
        "INO7= np.genfromtxt('/content/drive/My Drive/Dados/N_Ordenados/num_n_ord_dim_50000.txt', delimiter=',')\n",
        "INO8= np.genfromtxt('/content/drive/My Drive/Dados/N_Ordenados/num_n_ord_dim_100000.txt', delimiter=',')\n",
        "INO9= np.genfromtxt('/content/drive/My Drive/Dados/N_Ordenados/num_n_ord_dim_500000.txt', delimiter=',')\n",
        "INO10= np.genfromtxt('/content/drive/My Drive/Dados/N_Ordenados/num_n_ord_dim_1000000.txt', delimiter=',')\n",
        "INO11= np.genfromtxt('/content/drive/My Drive/Dados/N_Ordenados/num_n_ord_dim_5000000.txt', delimiter=',')\n",
        "INO12= np.genfromtxt('/content/drive/My Drive/Dados/N_Ordenados/num_n_ord_dim_10000000.txt', delimiter=',')\n",
        "#INO13= np.genfromtxt('/content/drive/My Drive/Dados/N_Ordenados/num_n_ord_dim_100000000.txt', delimiter=',')\n"
      ]
    },
    {
      "cell_type": "code",
      "execution_count": null,
      "metadata": {
        "colab": {
          "base_uri": "https://localhost:8080/"
        },
        "id": "BSiVkHpSZzAZ",
        "outputId": "bef8ede1-f023-4ccd-8280-4052759f4d74"
      },
      "outputs": [
        {
          "output_type": "stream",
          "name": "stdout",
          "text": [
            "Requirement already satisfied: psutil in /usr/local/lib/python3.10/dist-packages (5.9.5)\n"
          ]
        }
      ],
      "source": [
        "pip install psutil"
      ]
    },
    {
      "cell_type": "code",
      "execution_count": null,
      "metadata": {
        "id": "nOfVHg16eiwc"
      },
      "outputs": [],
      "source": [
        "import time\n",
        "import psutil"
      ]
    },
    {
      "cell_type": "markdown",
      "source": [
        "Algoritmo 1"
      ],
      "metadata": {
        "id": "X7oaEOWFYMbo"
      }
    },
    {
      "cell_type": "code",
      "source": [
        "def maxVal1(A, n):\n",
        "    max_value = A[0]\n",
        "    for i in range(1, n):\n",
        "        if A[i] > max_value:\n",
        "            max_value = A[i]\n",
        "    return max_value\n"
      ],
      "metadata": {
        "id": "4mPWvvS4YKI_"
      },
      "execution_count": null,
      "outputs": []
    },
    {
      "cell_type": "markdown",
      "source": [
        "Algoritmo 2"
      ],
      "metadata": {
        "id": "IEFJNlUCYOWm"
      }
    },
    {
      "cell_type": "code",
      "source": [
        "def maxVal2(A, init, end):\n",
        "    if end - init <= 1:\n",
        "        return max(A[init], A[end])\n",
        "    else:\n",
        "        m = (init + end) // 2\n",
        "        v1 = maxVal2(A, init, m)\n",
        "        v2 = maxVal2(A, m + 1, end)\n",
        "        return max(v1, v2)\n"
      ],
      "metadata": {
        "id": "YZA9DwJ9YP3A"
      },
      "execution_count": null,
      "outputs": []
    },
    {
      "cell_type": "markdown",
      "metadata": {
        "id": "jZb4m5wac6xz"
      },
      "source": [
        "Função de Busca Binária"
      ]
    },
    {
      "cell_type": "code",
      "execution_count": null,
      "metadata": {
        "id": "hGUsjlE2XqTB"
      },
      "outputs": [],
      "source": [
        "# Matrix de armazenamento dos dados\n",
        "\n",
        "tabet = np.zeros((2,13))\n",
        "tabem = np.zeros((2,13))\n"
      ]
    },
    {
      "cell_type": "code",
      "source": [
        "def get_memory_usage():\n",
        "    memory_info = psutil.virtual_memory()\n",
        "    memory_virtual = memory_info.used  # Uso de memória virtual total em bytes\n",
        "    return memory_virtual"
      ],
      "metadata": {
        "id": "SqpXrJkKfA--"
      },
      "execution_count": null,
      "outputs": []
    },
    {
      "cell_type": "code",
      "source": [
        "vetor=INO3\n",
        "vtempo = np.zeros(len(vetor))\n",
        "inst=2\n",
        "nt=0"
      ],
      "metadata": {
        "id": "FGI_UdjiZpZz"
      },
      "execution_count": null,
      "outputs": []
    },
    {
      "cell_type": "markdown",
      "source": [
        "Algoritmo de teste de elementos"
      ],
      "metadata": {
        "id": "Y5UeQINAPioF"
      }
    },
    {
      "cell_type": "code",
      "execution_count": null,
      "metadata": {
        "id": "PFttKIF-0S6n",
        "colab": {
          "base_uri": "https://localhost:8080/"
        },
        "outputId": "7fec54f6-20c9-46c7-8474-f5a8f93646a7"
      },
      "outputs": [
        {
          "output_type": "stream",
          "name": "stdout",
          "text": [
            "_____________________________________________________________\n",
            "Tempo\n",
            "[[   0.1385    0.1549    0.2929    0.6912    0.9607    1.7686   11.8574\n",
            "    16.6007   80.515   186.791  1050.2836 2261.5682    0.    ]\n",
            " [   0.2148    0.2386    0.6067    2.4465    4.5967    7.7729   38.8925\n",
            "    80.6197  479.4659  606.6523 3358.7481 6771.2079    0.    ]]\n",
            "Memória\n",
            "[[     367.0016      563.6096     1114.112      3102.0373     1419.9467\n",
            "     11228.5013    74518.2871    18786.9867   206438.4      126702.9333\n",
            "   1068236.8    10010624.            0.    ]\n",
            " [    2064.384         0.            0.         5592.4053     3822.9333\n",
            "    155648.        24325.4212    83012.2667   878182.4     1413393.0667\n",
            "   3198156.8    11609702.4           0.    ]]\n"
          ]
        }
      ],
      "source": [
        "\n",
        "n=500\n",
        "process = psutil.Process()\n",
        "# Inicialize listas vazias para armazenar os resultados\n",
        "execution_times = []\n",
        "memory_usages = []\n",
        "\n",
        "for _ in range(n):\n",
        "    start_time = time.time()  # Inicia a contagem de tempo\n",
        "    #process1 = psutil.Process()\n",
        "    memory_i = get_memory_usage()\n",
        "\n",
        "    resultado = maxVal1(vetor, len(vetor))\n",
        "    memory_f = get_memory_usage()\n",
        "    end_time = time.time()  # Encerra a contagem de tempo\n",
        "    execution_time = (end_time - start_time)*1000\n",
        "    memory_used =abs (memory_f-memory_i)*8\n",
        "\n",
        "    # Armazene os resultados em suas respectivas listas\n",
        "    execution_times.append(execution_time)\n",
        "    memory_usages.append(memory_used)\n",
        "\n",
        "# Calcule a média dos tempos de execução e do uso de memória\n",
        "tabet[0,inst] = sum(execution_times) / n\n",
        "tabem[0,inst] = sum(memory_usages) / n\n",
        "\n",
        "#_______________________________________________________________\n",
        "\n",
        "# Inicialize listas vazias para armazenar os resultados\n",
        "execution_times = []\n",
        "memory_usages = []\n",
        "\n",
        "for _ in range(n):\n",
        "    start_time = time.time()  # Inicia a contagem de tempo\n",
        "    memory_i = get_memory_usage()\n",
        "    resultado = maxVal2(vetor,0, len(vetor)-1)\n",
        "    memory_f = get_memory_usage()\n",
        "    end_time = time.time()  # Encerra a contagem de tempo\n",
        "    execution_time = (end_time - start_time)*1000\n",
        "    memory_used =abs (memory_f-memory_i)*8\n",
        "\n",
        "    # Armazene os resultados em suas respectivas listas\n",
        "    execution_times.append(execution_time)\n",
        "    memory_usages.append(memory_used)\n",
        "\n",
        "# Calcule a média dos tempos de execução e do uso de memória\n",
        "tabet[1,inst] = sum(execution_times) / n\n",
        "tabem[1,inst] = sum(memory_usages) / n\n",
        "\n",
        "\n",
        "print('_____________________________________________________________')\n",
        "print('Tempo')\n",
        "np.set_printoptions(precision=4, suppress=True)\n",
        "print(tabet)\n",
        "\n",
        "\n",
        "print('Memória')\n",
        "print(tabem)\n",
        "\n",
        "#_______________________________________________________________"
      ]
    }
  ],
  "metadata": {
    "colab": {
      "provenance": [],
      "mount_file_id": "12qvMCi7KfuifZ1LSAmb550mR0GSSLZkH",
      "authorship_tag": "ABX9TyMGyx/lDHAkg2sOPxVpLf1z",
      "include_colab_link": true
    },
    "kernelspec": {
      "display_name": "Python 3",
      "name": "python3"
    },
    "language_info": {
      "name": "python"
    }
  },
  "nbformat": 4,
  "nbformat_minor": 0
}
{
  "cells": [
    {
      "cell_type": "markdown",
      "metadata": {
        "id": "view-in-github",
        "colab_type": "text"
      },
      "source": [
        "<a href=\"https://colab.research.google.com/github/Jhaan27/experimentacaoemalgoritmos/blob/main/Trabalho_ESquenta.ipynb\" target=\"_parent\"><img src=\"https://colab.research.google.com/assets/colab-badge.svg\" alt=\"Open In Colab\"/></a>"
      ]
    },
    {
      "cell_type": "code",
      "execution_count": null,
      "metadata": {
        "colab": {
          "base_uri": "https://localhost:8080/"
        },
        "id": "kqO8NpbEi8UO",
        "outputId": "b4c3a27d-7fb9-4d5a-8374-771b358758da"
      },
      "outputs": [
        {
          "output_type": "stream",
          "name": "stdout",
          "text": [
            "Drive already mounted at /content/drive; to attempt to forcibly remount, call drive.mount(\"/content/drive\", force_remount=True).\n"
          ]
        }
      ],
      "source": [
        "import random\n",
        "import numpy as np\n",
        "from google.colab import drive\n",
        "\n",
        "# Monte o Google Drive no Colab\n",
        "drive.mount('/content/drive')"
      ]
    },
    {
      "cell_type": "code",
      "execution_count": null,
      "metadata": {
        "id": "bfqQCriHdKny"
      },
      "outputs": [],
      "source": [
        "\n",
        "\n",
        "# Função para gerar números aleatórios e salvá-los em um arquivo de texto\n",
        "def generate_and_save_random_numbers(num_numbers, min_value, max_value):\n",
        "    # Nome do arquivo baseado no valor de num_numbers\n",
        "    file_name = f'num_n_ord_dim_{num_numbers+1}.txt'\n",
        "\n",
        "    # Caminho completo do arquivo no Google Drive\n",
        "    file_path = f'/content/drive/My Drive/Dados/N_Ordenados/{file_name}'\n",
        "\n",
        "    with open(file_path, 'w') as file:\n",
        "        for _ in range(num_numbers):\n",
        "            number = random.randint(min_value, max_value)\n",
        "            file.write(f\"{number},\\t\")\n",
        "\n",
        "    return file_path\n",
        "# Intervalo mínimo e máximo\n",
        "min_value = 0\n",
        "max_value = 1000\n",
        "n=13\n",
        "dim= [100, 200, 1000, 2000, 5000, 10000, 50000, 100000, 500000, 1000000, 5000000, 10000000, 100000000 ]\n",
        "cont2=0\n",
        "while cont2<n:\n",
        "\n",
        "  print(cont2)\n",
        "# Número de números aleatórios a serem gerados\n",
        "  num_numbers = dim[cont2]-1\n",
        "\n",
        "# Chame a função para gerar e salvar os números\n",
        "  saved_file_path = generate_and_save_random_numbers(num_numbers, min_value, max_value)\n",
        "  cont2=cont2+1\n",
        "\n",
        "#print(f\"Random numbers generated and saved to: {saved_file_path}\")\n"
      ]
    },
    {
      "cell_type": "code",
      "execution_count": null,
      "metadata": {
        "id": "eQcS6mFw1nTA"
      },
      "outputs": [],
      "source": [
        "\n",
        "\n",
        "def generate_ordered_numbers_file(num_numbers, min_value, max_value):\n",
        "\n",
        "     # Nome do arquivo baseado no valor de num_numbers\n",
        "    file_name = f'num_ord_dim_{num_numbers}.txt'\n",
        "\n",
        "    # Caminho completo do arquivo no Google Drive\n",
        "    file_path = f'/content/drive/My Drive/Dados/Ordenados/{file_name}'\n",
        "\n",
        "    with open(file_path, 'w') as file:\n",
        "        cont = 0\n",
        "        ctx=0\n",
        "        for i in range(num_numbers-1):\n",
        "            random_number = random.randint(min_value, max_value)\n",
        "\n",
        "            if cont < 9:\n",
        "                file.write(f\"{i + random_number},\")\n",
        "                cont += 1\n",
        "            else:\n",
        "                file.write(f\"{i + random_number}, \")\n",
        "                cont = 0\n",
        "            if ctx==num_numbers-1:\n",
        "                 if cont < 9:\n",
        "                  file.write(f\"{i + random_number}\")\n",
        "                  cont += 1\n",
        "            else:\n",
        "                 file.write(f\"{i + random_number}\")\n",
        "                 cont = 0\n",
        "            ctx=ctx+1\n",
        "\n",
        "# Intervalo mínimo e máximo\n",
        "min_value = 0\n",
        "max_value = 1\n",
        "n=13\n",
        "dim= [100, 200, 1000, 2000, 5000, 10000, 50000, 100000, 500000, 1000000, 5000000, 10000000, 100000000 ]\n",
        "cont2=0\n",
        "while cont2<n:\n",
        "\n",
        "  print(cont2)\n",
        "# Número de números aleatórios a serem gerados\n",
        "  num_numbers = dim[cont2]\n",
        "\n",
        "# Chame a função para gerar e salvar os números\n",
        "  saved_file_path = generate_ordered_numbers_file(num_numbers, min_value, max_value)\n",
        "  cont2=cont2+1\n",
        "\n"
      ]
    },
    {
      "cell_type": "code",
      "execution_count": null,
      "metadata": {
        "id": "l0qdazJ95IJP"
      },
      "outputs": [],
      "source": [
        "# Carregando os dados Ordenados\n",
        "IO1= np.genfromtxt('/content/drive/My Drive/Dados/Ordenados/num_ord_dim_100.txt', delimiter=',')\n",
        "IO2= np.genfromtxt('/content/drive/My Drive/Dados/Ordenados/num_ord_dim_200.txt', delimiter=',')\n",
        "IO3= np.genfromtxt('/content/drive/My Drive/Dados/Ordenados/num_ord_dim_1000.txt', delimiter=',')\n",
        "IO4= np.genfromtxt('/content/drive/My Drive/Dados/Ordenados/num_ord_dim_2000.txt', delimiter=',')\n",
        "IO5= np.genfromtxt('/content/drive/My Drive/Dados/Ordenados/num_ord_dim_5000.txt', delimiter=',')\n",
        "IO6= np.genfromtxt('/content/drive/My Drive/Dados/Ordenados/num_ord_dim_10000.txt', delimiter=',')\n",
        "IO7= np.genfromtxt('/content/drive/My Drive/Dados/Ordenados/num_ord_dim_50000.txt', delimiter=',')\n",
        "IO8= np.genfromtxt('/content/drive/My Drive/Dados/Ordenados/num_ord_dim_100000.txt', delimiter=',')\n",
        "IO9= np.genfromtxt('/content/drive/My Drive/Dados/Ordenados/num_ord_dim_500000.txt', delimiter=',')\n",
        "IO10= np.genfromtxt('/content/drive/My Drive/Dados/Ordenados/num_ord_dim_1000000.txt', delimiter=',')\n",
        "IO11= np.genfromtxt('/content/drive/My Drive/Dados/Ordenados/num_ord_dim_5000000.txt', delimiter=',')\n",
        "IO12= np.genfromtxt('/content/drive/My Drive/Dados/Ordenados/num_ord_dim_10000000.txt', delimiter=',')\n",
        "IO13= np.genfromtxt('/content/drive/My Drive/Dados/Ordenados/num_ord_dim_100000000.txt', delimiter=',')\n",
        "\n"
      ]
    },
    {
      "cell_type": "code",
      "execution_count": null,
      "metadata": {
        "id": "N3Kq0LXQSr2w"
      },
      "outputs": [],
      "source": [
        "\n",
        "# Carregando os dados Não Ordenados\n",
        "INO1= np.genfromtxt('/content/drive/My Drive/Dados/N_Ordenados/num_n_ord_dim_100.txt', delimiter=',')\n",
        "INO2= np.genfromtxt('/content/drive/My Drive/Dados/N_Ordenados/num_n_ord_dim_200.txt', delimiter=',')\n",
        "INO3= np.genfromtxt('/content/drive/My Drive/Dados/N_Ordenados/num_n_ord_dim_1000.txt', delimiter=',')\n",
        "INO4= np.genfromtxt('/content/drive/My Drive/Dados/N_Ordenados/num_n_ord_dim_2000.txt', delimiter=',')\n",
        "INO5= np.genfromtxt('/content/drive/My Drive/Dados/N_Ordenados/num_n_ord_dim_5000.txt', delimiter=',')\n",
        "INO6= np.genfromtxt('/content/drive/My Drive/Dados/N_Ordenados/num_n_ord_dim_10000.txt', delimiter=',')\n",
        "INO7= np.genfromtxt('/content/drive/My Drive/Dados/N_Ordenados/num_n_ord_dim_50000.txt', delimiter=',')\n",
        "INO8= np.genfromtxt('/content/drive/My Drive/Dados/N_Ordenados/num_n_ord_dim_100000.txt', delimiter=',')\n",
        "INO9= np.genfromtxt('/content/drive/My Drive/Dados/N_Ordenados/num_n_ord_dim_500000.txt', delimiter=',')\n",
        "INO10= np.genfromtxt('/content/drive/My Drive/Dados/N_Ordenados/num_n_ord_dim_1000000.txt', delimiter=',')\n",
        "INO11= np.genfromtxt('/content/drive/My Drive/Dados/N_Ordenados/num_n_ord_dim_5000000.txt', delimiter=',')\n",
        "INO12= np.genfromtxt('/content/drive/My Drive/Dados/N_Ordenados/num_n_ord_dim_10000000.txt', delimiter=',')\n",
        "INO13= np.genfromtxt('/content/drive/My Drive/Dados/N_Ordenados/num_n_ord_dim_100000000.txt', delimiter=',')\n"
      ]
    },
    {
      "cell_type": "code",
      "execution_count": null,
      "metadata": {
        "colab": {
          "base_uri": "https://localhost:8080/"
        },
        "id": "BSiVkHpSZzAZ",
        "outputId": "9827f8b7-d4ff-4f98-d8c4-e95527fb9a67"
      },
      "outputs": [
        {
          "output_type": "stream",
          "name": "stdout",
          "text": [
            "Requirement already satisfied: psutil in /usr/local/lib/python3.10/dist-packages (5.9.5)\n"
          ]
        }
      ],
      "source": [
        "pip install psutil"
      ]
    },
    {
      "cell_type": "code",
      "execution_count": null,
      "metadata": {
        "id": "nOfVHg16eiwc"
      },
      "outputs": [],
      "source": [
        "import time\n",
        "import psutil"
      ]
    },
    {
      "cell_type": "code",
      "execution_count": null,
      "metadata": {
        "id": "P4H843gXa5HJ"
      },
      "outputs": [],
      "source": [
        "import os\n",
        "\n",
        "def get_memory_usage():\n",
        "    process = psutil.Process(os.getpid())\n",
        "    return process.memory_info().rss  # Em bytes\n",
        "    # return process.memory_info().rss / 1024 / 1024  # Em megabytes"
      ]
    },
    {
      "cell_type": "markdown",
      "metadata": {
        "id": "jZb4m5wac6xz"
      },
      "source": [
        "Função de Busca Binária"
      ]
    },
    {
      "cell_type": "code",
      "execution_count": null,
      "metadata": {
        "id": "aHCT2PWEaAf-"
      },
      "outputs": [],
      "source": [
        "\n",
        "\n",
        "# Função de busca binária\n",
        "\n",
        "def binary_search(target, vet, start, end):\n",
        "    start_memory = get_memory_usage()\n",
        "    start_time = time.time()  # Inicia a contagem de tempo\n",
        "    middle = (start + end) // 2\n",
        "\n",
        "    if vet[middle] == target:\n",
        "        return middle\n",
        "\n",
        "    if start >= end:\n",
        "        return -1\n",
        "    elif vet[middle] < target:\n",
        "        return binary_search(target, vet, middle + 1, end)\n",
        "    else:\n",
        "        return binary_search(target, vet, start, middle - 1)\n",
        "\n",
        "    end_time = time.time()  # Encerra a contagem de tempo\n",
        "    end_memory = get_memory_usage()\n",
        "\n",
        "\n",
        "    print(f'Tempo de execução: {execution_time:.6f} segundos')\n",
        "    print(f'Memória utilizada: {memory_used :.2f} MB')\n"
      ]
    },
    {
      "cell_type": "markdown",
      "metadata": {
        "id": "heYZRk_PdAeg"
      },
      "source": [
        "Busca Cúbica"
      ]
    },
    {
      "cell_type": "code",
      "execution_count": null,
      "metadata": {
        "id": "VEdzs_j6eRyk"
      },
      "outputs": [],
      "source": [
        "def cubic_search(target, vet):\n",
        "    start_memory = get_memory_usage()\n",
        "    start_time = time.time()  # Inicia a contagem de tempo\n",
        "    position = -1\n",
        "\n",
        "    for i in range(len(vet)):\n",
        "        for j in range(len(vet)):\n",
        "            for k in range(len(vet)):\n",
        "                if (\n",
        "                    vet[i] == target and\n",
        "                    vet[j] == target and\n",
        "                    vet[k] == target\n",
        "                ):\n",
        "                    position = i\n",
        "\n",
        "    if position != -1:\n",
        "        return position\n",
        "\n",
        "    end_time = time.time()  # Encerra a contagem de tempo\n",
        "    end_memory = get_memory_usage()\n",
        "\n",
        "\n",
        "    execution_time = end_time - start_time\n",
        "    memory_used = end_memory - start_memory\n",
        "\n",
        "    if resultado != -1:\n",
        "      print(f'O alvo {alvo} foi encontrado no índice {resultado}.')\n",
        "    else:\n",
        "      print(f'O alvo {alvo} não foi encontrado no vetor.')\n"
      ]
    },
    {
      "cell_type": "markdown",
      "metadata": {
        "id": "BTSLw5C1mFe9"
      },
      "source": []
    },
    {
      "cell_type": "markdown",
      "metadata": {
        "id": "57IY1w9imFuW"
      },
      "source": [
        "Busca Quadrática"
      ]
    },
    {
      "cell_type": "code",
      "execution_count": null,
      "metadata": {
        "id": "DEAiBvFzl8-t"
      },
      "outputs": [],
      "source": [
        "def quadratic_search(target, vet):\n",
        "    counter = 0\n",
        "    position = -1\n",
        "    entered = False\n",
        "\n",
        "    for i in range(len(vet)):\n",
        "        for j in range(i, len(vet)):\n",
        "            if vet[i] == target:\n",
        "                if not entered:\n",
        "                    position = i\n",
        "                    if vet[j] == target:\n",
        "                        counter += 1\n",
        "        if counter > 0:\n",
        "            entered = True\n",
        "\n",
        "    if entered:\n",
        "        print(\"Position:\", position)\n",
        "        print(\"Repetition Counter:\", counter)\n",
        "\n",
        "\n",
        "\n",
        "\n",
        "\n"
      ]
    },
    {
      "cell_type": "markdown",
      "metadata": {
        "id": "cXRCxsV7rhfO"
      },
      "source": [
        "Busca Sequencial"
      ]
    },
    {
      "cell_type": "code",
      "execution_count": null,
      "metadata": {
        "id": "P9McoF7iotXv"
      },
      "outputs": [],
      "source": [
        "def sequential_search_v1(target, vet):\n",
        "    index = -1\n",
        "    for i in range(len(vet)):\n",
        "        if vet[i] == target:\n",
        "            index = i\n",
        "    return index\n",
        "\n",
        "def sequential_search_v2(target, vet):\n",
        "    for i in range(len(vet)):\n",
        "        if vet[i] == target:\n",
        "            return i\n",
        "    return -1\n",
        "\n"
      ]
    },
    {
      "cell_type": "markdown",
      "metadata": {
        "id": "ic_RxrFhshVD"
      },
      "source": []
    },
    {
      "cell_type": "markdown",
      "metadata": {
        "id": "9UA0nRa9siHe"
      },
      "source": [
        "Busca Ternária"
      ]
    },
    {
      "cell_type": "code",
      "execution_count": null,
      "metadata": {
        "id": "zBW_2gfmsjCs"
      },
      "outputs": [],
      "source": [
        "def ternary_search(target, vet):\n",
        "    start = 0\n",
        "    end = len(vet) - 1\n",
        "\n",
        "    while start <= end:\n",
        "        left_third = start + (end - start) // 3\n",
        "        right_third = end - (end - start) // 3\n",
        "\n",
        "        if vet[left_third] == target:\n",
        "            return left_third\n",
        "        elif vet[right_third] == target:\n",
        "            return right_third\n",
        "        elif vet[left_third] > target:\n",
        "            end = left_third - 1\n",
        "        elif vet[right_third] < target:\n",
        "            start = right_third + 1\n",
        "        else:\n",
        "            start = left_third + 1\n",
        "            end = right_third - 1\n",
        "\n",
        "    return -1\n",
        "\n",
        "\n"
      ]
    },
    {
      "cell_type": "code",
      "execution_count": null,
      "metadata": {
        "id": "hGUsjlE2XqTB"
      },
      "outputs": [],
      "source": [
        "# Matrix de armazenamento dos dados\n",
        "\n",
        "tabet = np.zeros((7,13))\n",
        "tabem = np.zeros((7,13))\n"
      ]
    },
    {
      "cell_type": "markdown",
      "source": [
        "Algoritmo de teste de elementos"
      ],
      "metadata": {
        "id": "Y5UeQINAPioF"
      }
    },
    {
      "cell_type": "code",
      "source": [
        "vetor=IO3\n",
        "vtempo = np.zeros(len(vetor))\n",
        "nt=0\n",
        "n=25\n",
        "\n",
        "\n",
        "while nt< len(vetor):\n",
        "\n",
        "  alvo = vetor [nt]\n",
        "  #process = psutil.Process()\n",
        "# Inicialize listas vazias para armazenar os resultados\n",
        "  execution_times = []\n",
        "  memory_usages = []\n",
        "\n",
        "  for _ in range(n):\n",
        "    start_time = time.time()  # Inicia a contagem de tempo\n",
        "    #process1 = psutil.Process()\n",
        "    #memory_i = get_memory_usage()\n",
        "    # Substitua esta linha pelo código do seu experimento\n",
        "    resultado = quadratic_search(alvo, vetor)\n",
        "    #memory_f = get_memory_usage()\n",
        "    end_time = time.time()  # Encerra a contagem de tempo\n",
        "    execution_time = end_time - start_time\n",
        "    memory_used =abs (memory_f-memory_i)\n",
        "\n",
        "    # Armazene os resultados em suas respectivas listas\n",
        "    execution_times.append(execution_time)\n",
        "    #memory_usages.append(memory_used)\n",
        "\n",
        "  vtempo[nt] = sum(execution_times) / n\n",
        "  nt=nt+1\n",
        "\n",
        "\n",
        "# Calcule a média dos tempos de execução e do uso de memória\n",
        "\n",
        "\n",
        "\n"
      ],
      "metadata": {
        "id": "M6kntm_P96F7"
      },
      "execution_count": null,
      "outputs": []
    },
    {
      "cell_type": "markdown",
      "source": [
        "Plotagem"
      ],
      "metadata": {
        "id": "w5l7w4d2PnrJ"
      }
    },
    {
      "cell_type": "code",
      "source": [
        "import matplotlib.pyplot as plt\n",
        "\n",
        "# Dados de exemplo\n",
        "y = vtempo\n",
        "x = np.arange(1, len(vetor) + 1)\n",
        "\n",
        "# Cria o gráfico de barras na cor roxa\n",
        "plt.bar(x, y, color='purple', label='Dados de Exemplo')\n",
        "\n",
        "# Configurações adiBusca Linear 1cionais do gráfico (título, rótulos dos eixos, legenda)\n",
        "plt.title('Busca Quadrática')\n",
        "plt.xlabel('Posição do elemento escolhido (n)')\n",
        "plt.ylabel('Tempo de resposta (s)')\n",
        "plt.legend()\n",
        "plt.ylim(0, 0.12)\n",
        "# Exibe o gráfico\n",
        "plt.show()\n"
      ],
      "metadata": {
        "id": "wIHcHEVXAUGq"
      },
      "execution_count": null,
      "outputs": []
    },
    {
      "cell_type": "code",
      "execution_count": null,
      "metadata": {
        "id": "PFttKIF-0S6n"
      },
      "outputs": [],
      "source": [
        "\n",
        "n=2\n",
        "process = psutil.Process()\n",
        "# Inicialize listas vazias para armazenar os resultados\n",
        "execution_times = []\n",
        "memory_usages = []\n",
        "\n",
        "for _ in range(n):\n",
        "    start_time = time.time()  # Inicia a contagem de tempo\n",
        "    #process1 = psutil.Process()\n",
        "    memory_i = get_memory_usage()\n",
        "\n",
        "    resultado = sequential_search_v1(alvo, vetor)\n",
        "    memory_f = get_memory_usage()\n",
        "    end_time = time.time()  # Encerra a contagem de tempo\n",
        "    execution_time = end_time - start_time\n",
        "    memory_used =abs (memory_f-memory_i)\n",
        "\n",
        "    # Armazene os resultados em suas respectivas listas\n",
        "    execution_times.append(execution_time)\n",
        "    memory_usages.append(memory_used)\n",
        "\n",
        "# Calcule a média dos tempos de execução e do uso de memória\n",
        "tabet[0,inst] = sum(execution_times) / n\n",
        "tabem[0,inst] = sum(memory_usages) / n\n",
        "\n",
        "#_______________________________________________________________\n",
        "\n",
        "# Inicialize listas vazias para armazenar os resultados\n",
        "execution_times = []\n",
        "memory_usages = []\n",
        "\n",
        "for _ in range(n):\n",
        "    start_time = time.time()  # Inicia a contagem de tempo\n",
        "    memory_i = get_memory_usage()\n",
        "\n",
        "\n",
        "    resultado = sequential_search_v2(alvo, vetor)\n",
        "    memory_f = get_memory_usage()\n",
        "    end_time = time.time()  # Encerra a contagem de tempo\n",
        "    execution_time = end_time - start_time\n",
        "    memory_used =abs (memory_f-memory_i)\n",
        "\n",
        "    # Armazene os resultados em suas respectivas listas\n",
        "    execution_times.append(execution_time)\n",
        "    memory_usages.append(memory_used)\n",
        "\n",
        "# Calcule a média dos tempos de execução e do uso de memória\n",
        "tabet[1,inst] = sum(execution_times) / n\n",
        "tabem[1,inst] = sum(memory_usages) / n\n",
        "\n",
        "#_______________________________________________________________\n",
        "\n",
        "# Inicialize listas vazias para armazenar os resultados\n",
        "execution_times = []\n",
        "memory_usages = []\n",
        "\n",
        "indicez = int(0.5 * nx)  # Calcula o índice aproximadamente a 40% do tamanho do vetor\n",
        "alvoz =vetor[indicez]\n",
        "for _ in range(n):\n",
        "    start_time = time.time()  # Inicia a contagem de tempo\n",
        "    memory_i = get_memory_usage()\n",
        "\n",
        "\n",
        "    resultado = binary_search(alvoz, vetor, 0, len(vetor) - 1)\n",
        "    memory_f = get_memory_usage()\n",
        "    end_time = time.time()  # Encerra a contagem de tempo\n",
        "    execution_time = end_time - start_time\n",
        "    memory_used =abs (memory_f-memory_i)\n",
        "\n",
        "    # Armazene os resultados em suas respectivas listas\n",
        "    execution_times.append(execution_time)\n",
        "    memory_usages.append(memory_used)\n",
        "\n",
        "# Calcule a média dos tempos de execução e do uso de memória\n",
        "tabet[2,inst] = sum(execution_times) / n\n",
        "tabem[2,inst] = sum(memory_usages) / n\n",
        "\n",
        "#_______________________________________________________________\n",
        "\n",
        "# Inicialize listas vazias para armazenar os resultados\n",
        "execution_times = []\n",
        "memory_usages = []\n",
        "\n",
        "indicey = int(0* n)  # Calcula o índice aproximadamente a 40% do tamanho do vetor\n",
        "alvoy = vetor[indicey]\n",
        "for _ in range(n):\n",
        "    start_time = time.time()  # Inicia a contagem de tempo\n",
        "    memory_i = get_memory_usage()\n",
        "\n",
        "\n",
        "    resultado = binary_search(alvoy, vetor, 0, len(vetor) - 1)\n",
        "    memory_f = get_memory_usage()\n",
        "    end_time = time.time()  # Encerra a contagem de tempo\n",
        "    execution_time = end_time - start_time\n",
        "    memory_used =abs (memory_f-memory_i)\n",
        "\n",
        "    # Armazene os resultados em suas respectivas listas\n",
        "    execution_times.append(execution_time)\n",
        "    memory_usages.append(memory_used)\n",
        "\n",
        "# Calcule a média dos tempos de execução e do uso de memória\n",
        "tabet[3,inst] = sum(execution_times) / n\n",
        "tabem[3,inst] = sum(memory_usages) / n\n",
        "\n",
        "#_______________________________________________________________\n",
        "\n",
        "# Inicialize listas vazias para armazenar os resultados\n",
        "execution_times = []\n",
        "memory_usages = []\n",
        "\n",
        "#for _ in range(n):\n",
        "    start_time = time.time()  # Inicia a contagem de tempo\n",
        "    memory_i = get_memory_usage()\n",
        "\n",
        "\n",
        "    resultado = quadratic_search(alvo, vetor)\n",
        "    memory_f = get_memory_usage()\n",
        "    end_time = time.time()  # Encerra a contagem de tempo\n",
        "    execution_time = end_time - start_time\n",
        "    memory_used =abs (memory_f-memory_i)\n",
        "\n",
        "    # Armazene os resultados em suas respectivas listas\n",
        "    execution_times.append(execution_time)\n",
        "    memory_usages.append(memory_used)\n",
        "\n",
        "# Calcule a média dos tempos de execução e do uso de memória\n",
        "tabet[4,inst] = sum(execution_times) / n\n",
        "tabem[4,inst] = sum(memory_usages) / n\n",
        "\n",
        "#_______________________________________________________________\n",
        "\n",
        "# Inicialize listas vazias para armazenar os resultados\n",
        "execution_times = []\n",
        "memory_usages = []\n",
        "\n",
        "for _ in range(n):\n",
        "    start_time = time.time()  # Inicia a contagem de tempo\n",
        "    memory_i = get_memory_usage()\n",
        "\n",
        "    # Substitua esta linha pelo código do seu experimento\n",
        "    resultado = ternary_search(alvo, vetor)\n",
        "    memory_f = get_memory_usage()\n",
        "    end_time = time.time()  # Encerra a contagem de tempo\n",
        "    execution_time = end_time - start_time\n",
        "    memory_used =abs (memory_f-memory_i)\n",
        "\n",
        "    # Armazene os resultados em suas respectivas listas\n",
        "    execution_times.append(execution_time)\n",
        "    memory_usages.append(memory_used)\n",
        "\n",
        "# Calcule a média dos tempos de execução e do uso de memória\n",
        "tabet[5,inst] = sum(execution_times) / n\n",
        "tabem[5,inst] = sum(memory_usages) / n\n",
        "\n",
        "#_______________________________________________________________\n",
        "\n",
        "# Inicialize listas vazias para armazenar os resultados\n",
        "execution_times = []\n",
        "memory_usages = []\n",
        "\n",
        "for _ in range(n):\n",
        "    start_time = time.time()  # Inicia a contagem de tempo\n",
        "    memory_i = get_memory_usage()\n",
        "\n",
        "    # Substitua esta linha pelo código do seu experimento\n",
        "    resultado = cubic_search(alvo, vetor)\n",
        "    memory_f = get_memory_usage()\n",
        "    end_time = time.time()  # Encerra a contagem de tempo\n",
        "    execution_time = end_time - start_time\n",
        "    memory_used =abs (memory_f-memory_i)\n",
        "\n",
        "    # Armazene os resultados em suas respectivas listas\n",
        "    execution_times.append(execution_time)\n",
        "    memory_usages.append(memory_used)\n",
        "\n",
        "# Calcule a média dos tempos de execução e do uso de memória\n",
        "tabet[6,inst] = sum(execution_times) / n\n",
        "tabem[6,inst] = sum(memory_usages) / n\n",
        "\n",
        "\n",
        "print('_____________________________________________________________')\n",
        "print('Tempo')\n",
        "np.set_printoptions(precision=4, suppress=True)\n",
        "print(tabet)\n",
        "\n",
        "\n",
        "print('Memória')\n",
        "print(tabem)\n",
        "\n",
        "#_______________________________________________________________"
      ]
    }
  ],
  "metadata": {
    "colab": {
      "provenance": [],
      "include_colab_link": true
    },
    "kernelspec": {
      "display_name": "Python 3",
      "name": "python3"
    },
    "language_info": {
      "name": "python"
    }
  },
  "nbformat": 4,
  "nbformat_minor": 0
}